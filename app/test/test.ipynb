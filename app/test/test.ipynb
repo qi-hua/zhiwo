{
 "cells": [
  {
   "cell_type": "markdown",
   "metadata": {},
   "source": [
    "## API测试"
   ]
  },
  {
   "cell_type": "code",
   "execution_count": 2,
   "metadata": {},
   "outputs": [],
   "source": [
    "import json\n",
    "import requests\n",
    "\n",
    "def run_llm_service(question, service_id=\"get_sparql_service\"):\n",
    "    body = {\n",
    "        \"service_id\": service_id,\n",
    "        \"params\": {\"input\": question}\n",
    "    }\n",
    "    server_url = \"http://127.0.0.1:8080/service_run\"\n",
    "    headers = { \"Content-Type\": \"application/json\" }\n",
    "    response = requests.post(server_url, json=body, headers=headers)\n",
    "\n",
    "    print(response.json())\n",
    "    \n",
    "    if response.status_code == 200:\n",
    "        if response.json()[\"success\"]:\n",
    "            return json.loads(response.json()[\"result\"])\n",
    "        else:\n",
    "            raise Exception(f'failed to call service {service_id}.',\n",
    "                            response.json()[\"message\"])\n",
    "    else:\n",
    "        raise Exception(f'failed to call service {service_id}.',\n",
    "                        response.status_code, response.text)"
   ]
  },
  {
   "cell_type": "code",
   "execution_count": 15,
   "metadata": {},
   "outputs": [
    {
     "name": "stdout",
     "output_type": "stream",
     "text": [
      "{'message': None, 'request_id': '65e76fbd4af1427a9abcb8825d0629c7', 'result': '{\"chat_history\": [{\"content\": \"切斯·克劳福的搭档中，谁同时也是灵魂冲浪的主要演员？\", \"type\": \"human\"}, {\"content\": \"SELECT ?x WHERE { ?x <搭档> <切斯·克劳福> . ?x <主要演员> <灵魂冲浪> . }\", \"type\": \"ai\"}], \"background\": \"\", \"date\": \"2024-07-10\", \"input\": \"切斯·克劳福的搭档中，谁同时也是灵魂冲浪的主要演员？\", \"output\": \"SELECT ?x WHERE { ?x <搭档> <切斯·克劳福> . ?x <主要演员> <灵魂冲浪> . }\"}', 'success': True}\n",
      "{\n",
      "    \"chat_history\": [\n",
      "        {\n",
      "            \"content\": \"切斯·克劳福的搭档中，谁同时也是灵魂冲浪的主要演员？\",\n",
      "            \"type\": \"human\"\n",
      "        },\n",
      "        {\n",
      "            \"content\": \"SELECT ?x WHERE { ?x <搭档> <切斯·克劳福> . ?x <主要演员> <灵魂冲浪> . }\",\n",
      "            \"type\": \"ai\"\n",
      "        }\n",
      "    ],\n",
      "    \"background\": \"\",\n",
      "    \"date\": \"2024-07-10\",\n",
      "    \"input\": \"切斯·克劳福的搭档中，谁同时也是灵魂冲浪的主要演员？\",\n",
      "    \"output\": \"SELECT ?x WHERE { ?x <搭档> <切斯·克劳福> . ?x <主要演员> <灵魂冲浪> . }\"\n",
      "}\n",
      "CPU times: user 5.73 ms, sys: 220 µs, total: 5.95 ms\n",
      "Wall time: 743 ms\n"
     ]
    },
    {
     "data": {
      "text/plain": [
       "'SELECT ?x WHERE { ?x <搭档> <切斯·克劳福> . ?x <主要演员> <灵魂冲浪> . }'"
      ]
     },
     "execution_count": 15,
     "metadata": {},
     "output_type": "execute_result"
    }
   ],
   "source": [
    "%%time\n",
    "result = run_llm_service(\"切斯·克劳福的搭档中，谁同时也是灵魂冲浪的主要演员？\", service_id=\"get_sparql_service\")\n",
    "print(json.dumps(result, ensure_ascii=False, indent=4))\n",
    "result['output']"
   ]
  },
  {
   "cell_type": "code",
   "execution_count": 11,
   "metadata": {},
   "outputs": [
    {
     "name": "stdout",
     "output_type": "stream",
     "text": [
      "{'message': None, 'request_id': '33a638b04ca449f1a1925fa763532870', 'result': '{\"chat_history\": [{\"content\": \"李军和张彬谁的毕业院校更多？\", \"type\": \"human\"}, {\"content\": \"select ?x where {\\\\n  ?person1 <毕业院校> ?y1 .\\\\n  ?person2 <毕业院校> ?y2 .\\\\n  ?person1 <毕业院校数量> ?x .\\\\n  ?person2 <毕业院校数量> ?x .\\\\n  filter(?person1 = \\\\\"李军\\\\\" || ?person1 = \\\\\"张彬\\\\\" || ?person2 = \\\\\"李军\\\\\" || ?person2 = \\\\\"张彬\\\\\")\\\\n  filter(?x > 0)\\\\n  ?x = max(?x1, ?x2)\\\\n}\", \"type\": \"ai\"}], \"background\": \"问题：胡歌的毕业院校在哪里？\\\\tSPARQL查询语句：select ?x where { <胡歌_（中国内地男演员）> <毕业院校> ?y . ?y <所属地区> ?x . }\\\\n问题：NIKE创始人的毕业院校是什么？\\\\tSPARQL查询语句：select ?x where { <NIKE> <创始人> ?y. ?y <毕业院校> ?x. }\", \"date\": \"2024-07-10\", \"input\": \"李军和张彬谁的毕业院校更多？\", \"output\": \"select ?x where {\\\\n  ?person1 <毕业院校> ?y1 .\\\\n  ?person2 <毕业院校> ?y2 .\\\\n  ?person1 <毕业院校数量> ?x .\\\\n  ?person2 <毕业院校数量> ?x .\\\\n  filter(?person1 = \\\\\"李军\\\\\" || ?person1 = \\\\\"张彬\\\\\" || ?person2 = \\\\\"李军\\\\\" || ?person2 = \\\\\"张彬\\\\\")\\\\n  filter(?x > 0)\\\\n  ?x = max(?x1, ?x2)\\\\n}\"}', 'success': True}\n",
      "{\n",
      "    \"chat_history\": [\n",
      "        {\n",
      "            \"content\": \"李军和张彬谁的毕业院校更多？\",\n",
      "            \"type\": \"human\"\n",
      "        },\n",
      "        {\n",
      "            \"content\": \"select ?x where {\\n  ?person1 <毕业院校> ?y1 .\\n  ?person2 <毕业院校> ?y2 .\\n  ?person1 <毕业院校数量> ?x .\\n  ?person2 <毕业院校数量> ?x .\\n  filter(?person1 = \\\"李军\\\" || ?person1 = \\\"张彬\\\" || ?person2 = \\\"李军\\\" || ?person2 = \\\"张彬\\\")\\n  filter(?x > 0)\\n  ?x = max(?x1, ?x2)\\n}\",\n",
      "            \"type\": \"ai\"\n",
      "        }\n",
      "    ],\n",
      "    \"background\": \"问题：胡歌的毕业院校在哪里？\\tSPARQL查询语句：select ?x where { <胡歌_（中国内地男演员）> <毕业院校> ?y . ?y <所属地区> ?x . }\\n问题：NIKE创始人的毕业院校是什么？\\tSPARQL查询语句：select ?x where { <NIKE> <创始人> ?y. ?y <毕业院校> ?x. }\",\n",
      "    \"date\": \"2024-07-10\",\n",
      "    \"input\": \"李军和张彬谁的毕业院校更多？\",\n",
      "    \"output\": \"select ?x where {\\n  ?person1 <毕业院校> ?y1 .\\n  ?person2 <毕业院校> ?y2 .\\n  ?person1 <毕业院校数量> ?x .\\n  ?person2 <毕业院校数量> ?x .\\n  filter(?person1 = \\\"李军\\\" || ?person1 = \\\"张彬\\\" || ?person2 = \\\"李军\\\" || ?person2 = \\\"张彬\\\")\\n  filter(?x > 0)\\n  ?x = max(?x1, ?x2)\\n}\"\n",
      "}\n",
      "CPU times: user 7.05 ms, sys: 0 ns, total: 7.05 ms\n",
      "Wall time: 1.94 s\n"
     ]
    }
   ],
   "source": [
    "%%time\n",
    "result = run_llm_service(\"李军和张彬谁的毕业院校更多？\", service_id=\"get_sparql_by_rag_service\")\n",
    "s = json.dumps(result, ensure_ascii=False, indent=4)\n",
    "print(s)"
   ]
  },
  {
   "cell_type": "code",
   "execution_count": null,
   "metadata": {},
   "outputs": [],
   "source": []
  },
  {
   "cell_type": "code",
   "execution_count": null,
   "metadata": {},
   "outputs": [],
   "source": []
  },
  {
   "cell_type": "code",
   "execution_count": 1,
   "metadata": {},
   "outputs": [
    {
     "name": "stderr",
     "output_type": "stream",
     "text": [
      "/opt/anaconda3/envs/llm/lib/python3.11/site-packages/pydantic/_internal/_generate_schema.py:394: UserWarning: <module 'chromadb.api.models.Collection' from '/opt/anaconda3/envs/llm/lib/python3.11/site-packages/chromadb/api/models/Collection.py'> is not a Python type (it may be an instance of an object), Pydantic will allow any object with no validation since we cannot even enforce that the input is an instance of the given type. To get rid of this error wrap the type with `pydantic.SkipValidation`.\n",
      "  warn(\n",
      "Some weights of BertModel were not initialized from the model checkpoint at /home/qihua/computer/models/minirbt-h256 and are newly initialized: ['bert.pooler.dense.bias', 'bert.pooler.dense.weight']\n",
      "You should probably TRAIN this model on a down-stream task to be able to use it for predictions and inference.\n"
     ]
    }
   ],
   "source": [
    "import os,sys\n",
    "os.chdir('/home/qihua/study/zhiwo/app/bootstrap')\n",
    "\n",
    "from agentuniverse.agent.agent import Agent\n",
    "from agentuniverse.agent.agent_manager import AgentManager\n",
    "from agentuniverse.agent.output_object import OutputObject\n",
    "from agentuniverse.base.agentuniverse import AgentUniverse\n",
    "\n",
    "\n",
    "AgentUniverse().start(config_path='/home/qihua/study/zhiwo/config/config.toml')"
   ]
  },
  {
   "cell_type": "code",
   "execution_count": 2,
   "metadata": {},
   "outputs": [],
   "source": [
    "from agentuniverse.agent.action.knowledge.knowledge_manager import KnowledgeManager\n",
    "\n",
    "knowledge = KnowledgeManager().get_instance_obj('ccks2024people_relations_knowledge')\n"
   ]
  },
  {
   "cell_type": "code",
   "execution_count": null,
   "metadata": {},
   "outputs": [
    {
     "ename": "",
     "evalue": "",
     "output_type": "error",
     "traceback": [
      "\u001b[1;31m无法连接到远程 Jupyter 服务器 \"http://127.0.0.1:8888/\"。验证服务器是否正在运行且可访问。"
     ]
    }
   ],
   "source": [
    "query_input = {\n",
    "    'query_str': '日高里菜和竹达彩奈的共同代表作品是什么？',\n",
    "    'similarity_top_k': 16,\n",
    "}\n",
    "result = knowledge.query_knowledge(**query_input)\n",
    "print('\\n'.join([item.text for item in result]))"
   ]
  }
 ],
 "metadata": {
  "kernelspec": {
   "display_name": "llm",
   "language": "python",
   "name": "llm"
  }
 },
 "nbformat": 4,
 "nbformat_minor": 2
}
