{
 "cells": [
  {
   "cell_type": "markdown",
   "metadata": {},
   "source": [
    "## API测试"
   ]
  },
  {
   "cell_type": "code",
   "execution_count": 13,
   "metadata": {},
   "outputs": [],
   "source": [
    "import json\n",
    "import requests\n",
    "\n",
    "def run_llm_service(question, service_id=\"get_sparql_service\"):\n",
    "    body = {\n",
    "        \"service_id\": service_id,\n",
    "        \"params\": {\"input\": question}\n",
    "    }\n",
    "    server_url = \"http://127.0.0.1:8080/service_run\"\n",
    "    headers = { \"Content-Type\": \"application/json\" }\n",
    "    response = requests.post(server_url, json=body, headers=headers)\n",
    "\n",
    "    print(response.json())\n",
    "    \n",
    "    if response.status_code == 200:\n",
    "        if response.json()[\"success\"]:\n",
    "            return json.loads(response.json()[\"result\"])\n",
    "        else:\n",
    "            raise Exception(f'failed to call service {service_id}.',\n",
    "                            response.json()[\"message\"])\n",
    "    else:\n",
    "        raise Exception(f'failed to call service {service_id}.',\n",
    "                        response.status_code, response.text)"
   ]
  },
  {
   "cell_type": "code",
   "execution_count": 15,
   "metadata": {},
   "outputs": [
    {
     "name": "stdout",
     "output_type": "stream",
     "text": [
      "{'message': None, 'request_id': '65e76fbd4af1427a9abcb8825d0629c7', 'result': '{\"chat_history\": [{\"content\": \"切斯·克劳福的搭档中，谁同时也是灵魂冲浪的主要演员？\", \"type\": \"human\"}, {\"content\": \"SELECT ?x WHERE { ?x <搭档> <切斯·克劳福> . ?x <主要演员> <灵魂冲浪> . }\", \"type\": \"ai\"}], \"background\": \"\", \"date\": \"2024-07-10\", \"input\": \"切斯·克劳福的搭档中，谁同时也是灵魂冲浪的主要演员？\", \"output\": \"SELECT ?x WHERE { ?x <搭档> <切斯·克劳福> . ?x <主要演员> <灵魂冲浪> . }\"}', 'success': True}\n",
      "{\n",
      "    \"chat_history\": [\n",
      "        {\n",
      "            \"content\": \"切斯·克劳福的搭档中，谁同时也是灵魂冲浪的主要演员？\",\n",
      "            \"type\": \"human\"\n",
      "        },\n",
      "        {\n",
      "            \"content\": \"SELECT ?x WHERE { ?x <搭档> <切斯·克劳福> . ?x <主要演员> <灵魂冲浪> . }\",\n",
      "            \"type\": \"ai\"\n",
      "        }\n",
      "    ],\n",
      "    \"background\": \"\",\n",
      "    \"date\": \"2024-07-10\",\n",
      "    \"input\": \"切斯·克劳福的搭档中，谁同时也是灵魂冲浪的主要演员？\",\n",
      "    \"output\": \"SELECT ?x WHERE { ?x <搭档> <切斯·克劳福> . ?x <主要演员> <灵魂冲浪> . }\"\n",
      "}\n",
      "CPU times: user 5.73 ms, sys: 220 µs, total: 5.95 ms\n",
      "Wall time: 743 ms\n"
     ]
    },
    {
     "data": {
      "text/plain": [
       "'SELECT ?x WHERE { ?x <搭档> <切斯·克劳福> . ?x <主要演员> <灵魂冲浪> . }'"
      ]
     },
     "execution_count": 15,
     "metadata": {},
     "output_type": "execute_result"
    }
   ],
   "source": [
    "%%time\n",
    "result = run_llm_service(\"切斯·克劳福的搭档中，谁同时也是灵魂冲浪的主要演员？\", service_id=\"get_sparql_service\")\n",
    "print(json.dumps(result, ensure_ascii=False, indent=4))\n",
    "result['output']"
   ]
  },
  {
   "cell_type": "code",
   "execution_count": 11,
   "metadata": {},
   "outputs": [
    {
     "name": "stdout",
     "output_type": "stream",
     "text": [
      "{'message': None, 'request_id': '33a638b04ca449f1a1925fa763532870', 'result': '{\"chat_history\": [{\"content\": \"李军和张彬谁的毕业院校更多？\", \"type\": \"human\"}, {\"content\": \"select ?x where {\\\\n  ?person1 <毕业院校> ?y1 .\\\\n  ?person2 <毕业院校> ?y2 .\\\\n  ?person1 <毕业院校数量> ?x .\\\\n  ?person2 <毕业院校数量> ?x .\\\\n  filter(?person1 = \\\\\"李军\\\\\" || ?person1 = \\\\\"张彬\\\\\" || ?person2 = \\\\\"李军\\\\\" || ?person2 = \\\\\"张彬\\\\\")\\\\n  filter(?x > 0)\\\\n  ?x = max(?x1, ?x2)\\\\n}\", \"type\": \"ai\"}], \"background\": \"问题：胡歌的毕业院校在哪里？\\\\tSPARQL查询语句：select ?x where { <胡歌_（中国内地男演员）> <毕业院校> ?y . ?y <所属地区> ?x . }\\\\n问题：NIKE创始人的毕业院校是什么？\\\\tSPARQL查询语句：select ?x where { <NIKE> <创始人> ?y. ?y <毕业院校> ?x. }\", \"date\": \"2024-07-10\", \"input\": \"李军和张彬谁的毕业院校更多？\", \"output\": \"select ?x where {\\\\n  ?person1 <毕业院校> ?y1 .\\\\n  ?person2 <毕业院校> ?y2 .\\\\n  ?person1 <毕业院校数量> ?x .\\\\n  ?person2 <毕业院校数量> ?x .\\\\n  filter(?person1 = \\\\\"李军\\\\\" || ?person1 = \\\\\"张彬\\\\\" || ?person2 = \\\\\"李军\\\\\" || ?person2 = \\\\\"张彬\\\\\")\\\\n  filter(?x > 0)\\\\n  ?x = max(?x1, ?x2)\\\\n}\"}', 'success': True}\n",
      "{\n",
      "    \"chat_history\": [\n",
      "        {\n",
      "            \"content\": \"李军和张彬谁的毕业院校更多？\",\n",
      "            \"type\": \"human\"\n",
      "        },\n",
      "        {\n",
      "            \"content\": \"select ?x where {\\n  ?person1 <毕业院校> ?y1 .\\n  ?person2 <毕业院校> ?y2 .\\n  ?person1 <毕业院校数量> ?x .\\n  ?person2 <毕业院校数量> ?x .\\n  filter(?person1 = \\\"李军\\\" || ?person1 = \\\"张彬\\\" || ?person2 = \\\"李军\\\" || ?person2 = \\\"张彬\\\")\\n  filter(?x > 0)\\n  ?x = max(?x1, ?x2)\\n}\",\n",
      "            \"type\": \"ai\"\n",
      "        }\n",
      "    ],\n",
      "    \"background\": \"问题：胡歌的毕业院校在哪里？\\tSPARQL查询语句：select ?x where { <胡歌_（中国内地男演员）> <毕业院校> ?y . ?y <所属地区> ?x . }\\n问题：NIKE创始人的毕业院校是什么？\\tSPARQL查询语句：select ?x where { <NIKE> <创始人> ?y. ?y <毕业院校> ?x. }\",\n",
      "    \"date\": \"2024-07-10\",\n",
      "    \"input\": \"李军和张彬谁的毕业院校更多？\",\n",
      "    \"output\": \"select ?x where {\\n  ?person1 <毕业院校> ?y1 .\\n  ?person2 <毕业院校> ?y2 .\\n  ?person1 <毕业院校数量> ?x .\\n  ?person2 <毕业院校数量> ?x .\\n  filter(?person1 = \\\"李军\\\" || ?person1 = \\\"张彬\\\" || ?person2 = \\\"李军\\\" || ?person2 = \\\"张彬\\\")\\n  filter(?x > 0)\\n  ?x = max(?x1, ?x2)\\n}\"\n",
      "}\n",
      "CPU times: user 7.05 ms, sys: 0 ns, total: 7.05 ms\n",
      "Wall time: 1.94 s\n"
     ]
    }
   ],
   "source": [
    "%%time\n",
    "result = run_llm_service(\"李军和张彬谁的毕业院校更多？\", service_id=\"get_sparql_by_rag_service\")\n",
    "s = json.dumps(result, ensure_ascii=False, indent=4)\n",
    "print(s)"
   ]
  },
  {
   "cell_type": "code",
   "execution_count": null,
   "metadata": {},
   "outputs": [],
   "source": []
  },
  {
   "cell_type": "code",
   "execution_count": null,
   "metadata": {},
   "outputs": [],
   "source": []
  }
 ],
 "metadata": {
  "kernelspec": {
   "display_name": "llm",
   "language": "python",
   "name": "llm"
  },
  "language_info": {
   "codemirror_mode": {
    "name": "ipython",
    "version": 3
   },
   "file_extension": ".py",
   "mimetype": "text/x-python",
   "name": "python",
   "nbconvert_exporter": "python",
   "pygments_lexer": "ipython3",
   "version": "3.11.9"
  }
 },
 "nbformat": 4,
 "nbformat_minor": 2
}
